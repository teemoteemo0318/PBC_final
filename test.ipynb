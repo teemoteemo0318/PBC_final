{
 "metadata": {
  "language_info": {
   "codemirror_mode": {
    "name": "ipython",
    "version": 3
   },
   "file_extension": ".py",
   "mimetype": "text/x-python",
   "name": "python",
   "nbconvert_exporter": "python",
   "pygments_lexer": "ipython3",
   "version": "3.8.5-final"
  },
  "orig_nbformat": 2,
  "kernelspec": {
   "name": "python3",
   "display_name": "Python 3.8.5 64-bit ('django_practice': conda)",
   "metadata": {
    "interpreter": {
     "hash": "85a42e78a962f970f529f33385377c532bdc24bd4a8df4d1afd37ca1fdad73e0"
    }
   }
  }
 },
 "nbformat": 4,
 "nbformat_minor": 2,
 "cells": [
  {
   "cell_type": "code",
   "execution_count": 9,
   "metadata": {},
   "outputs": [],
   "source": [
    "import pandas as pd\n",
    "\n",
    "df = pd.read_excel('20200821_2020922.xlsx',parse_dates=['年月日'])"
   ]
  },
  {
   "cell_type": "code",
   "execution_count": 10,
   "metadata": {},
   "outputs": [
    {
     "output_type": "execute_result",
     "data": {
      "text/plain": [
       "43241"
      ]
     },
     "metadata": {},
     "execution_count": 10
    }
   ],
   "source": [
    "df.shape[0]"
   ]
  },
  {
   "cell_type": "code",
   "execution_count": 3,
   "metadata": {},
   "outputs": [],
   "source": [
    "# from products.models import Stock\n",
    "import os\n",
    "import pandas as pd\n",
    "\n",
    "os.environ.setdefault('Django_SETTINGS_MODULE','final_project.settings')\n",
    "\n",
    "import django\n",
    "django.setup()\n",
    "\n",
    "from products.models import Stock\n",
    "os.environ[\"DJANGO_ALLOW_ASYNC_UNSAFE\"] = \"true\"\n",
    "\n",
    "# https://zhuanlan.zhihu.com/p/126712394\n",
    "def insert(df, N=5):\n",
    "    for i in range(N):\n",
    "        Stock.objects.get_or_create(company=df.iloc[i,0].split(' ')[0],\n",
    "                                    date=df.iloc[i,1],\n",
    "                                    open=df.iloc[i,2],\n",
    "                                    high=df.iloc[i,3],\n",
    "                                    low=df.iloc[i,4],\n",
    "                                    close=df.iloc[i,5],\n",
    "                                    volume=df.iloc[i,6])\n",
    "        if i % 1000 == 999:\n",
    "            print(\"finish {:5d}/{} insertion\".format(i, df.shape[0]))"
   ]
  },
  {
   "cell_type": "code",
   "execution_count": 5,
   "metadata": {},
   "outputs": [
    {
     "output_type": "execute_result",
     "data": {
      "text/plain": [
       "39697"
      ]
     },
     "metadata": {},
     "execution_count": 5
    }
   ],
   "source": [
    "df = pd.read_excel('20200821_20200922.xlsx',parse_dates=['年月日'])\n",
    "df.shape[0]"
   ]
  },
  {
   "cell_type": "code",
   "execution_count": 8,
   "metadata": {},
   "outputs": [],
   "source": [
    "insert(df, df.shape[0])"
   ]
  },
  {
   "cell_type": "code",
   "execution_count": 6,
   "metadata": {},
   "outputs": [],
   "source": [
    "# from django.shortcuts import render\n",
    "# import matplotlib.pyplot as plt\n",
    "# import io\n",
    "# import urllib, base64\n",
    "# from products.models import Stock\n",
    "# import mplfinance as mpf\n",
    "# import pandas as pd"
   ]
  },
  {
   "cell_type": "code",
   "execution_count": 32,
   "metadata": {},
   "outputs": [
    {
     "output_type": "error",
     "ename": "ValueError",
     "evalue": "Length mismatch: Expected axis has 0 elements, new values have 31 elements",
     "traceback": [
      "\u001b[1;31m---------------------------------------------------------------------------\u001b[0m",
      "\u001b[1;31mValueError\u001b[0m                                Traceback (most recent call last)",
      "\u001b[1;32m<ipython-input-32-7117fecd2a91>\u001b[0m in \u001b[0;36m<module>\u001b[1;34m\u001b[0m\n\u001b[0;32m     18\u001b[0m \u001b[0mbuffer\u001b[0m\u001b[1;33m.\u001b[0m\u001b[0mseek\u001b[0m\u001b[1;33m(\u001b[0m\u001b[1;36m0\u001b[0m\u001b[1;33m)\u001b[0m\u001b[1;33m\u001b[0m\u001b[1;33m\u001b[0m\u001b[0m\n\u001b[0;32m     19\u001b[0m \u001b[0mdf\u001b[0m \u001b[1;33m=\u001b[0m \u001b[0mpd\u001b[0m\u001b[1;33m.\u001b[0m\u001b[0mDataFrame\u001b[0m\u001b[1;33m(\u001b[0m\u001b[1;33m)\u001b[0m\u001b[1;33m\u001b[0m\u001b[1;33m\u001b[0m\u001b[0m\n\u001b[1;32m---> 20\u001b[1;33m \u001b[0mdf\u001b[0m\u001b[1;33m.\u001b[0m\u001b[0mindex\u001b[0m \u001b[1;33m=\u001b[0m \u001b[0mdates\u001b[0m\u001b[1;33m\u001b[0m\u001b[1;33m\u001b[0m\u001b[0m\n\u001b[0m\u001b[0;32m     21\u001b[0m \u001b[0mdf\u001b[0m\u001b[1;33m.\u001b[0m\u001b[0mindex\u001b[0m\u001b[1;33m.\u001b[0m\u001b[0mname\u001b[0m \u001b[1;33m=\u001b[0m \u001b[1;34m'Date'\u001b[0m\u001b[1;33m\u001b[0m\u001b[1;33m\u001b[0m\u001b[0m\n\u001b[0;32m     22\u001b[0m \u001b[0mdf\u001b[0m\u001b[1;33m[\u001b[0m\u001b[1;34m'Open'\u001b[0m\u001b[1;33m]\u001b[0m \u001b[1;33m=\u001b[0m \u001b[0mopens\u001b[0m\u001b[1;33m\u001b[0m\u001b[1;33m\u001b[0m\u001b[0m\n",
      "\u001b[1;32m~\\anaconda3\\envs\\django_practice\\lib\\site-packages\\pandas\\core\\generic.py\u001b[0m in \u001b[0;36m__setattr__\u001b[1;34m(self, name, value)\u001b[0m\n\u001b[0;32m   5150\u001b[0m         \u001b[1;32mtry\u001b[0m\u001b[1;33m:\u001b[0m\u001b[1;33m\u001b[0m\u001b[1;33m\u001b[0m\u001b[0m\n\u001b[0;32m   5151\u001b[0m             \u001b[0mobject\u001b[0m\u001b[1;33m.\u001b[0m\u001b[0m__getattribute__\u001b[0m\u001b[1;33m(\u001b[0m\u001b[0mself\u001b[0m\u001b[1;33m,\u001b[0m \u001b[0mname\u001b[0m\u001b[1;33m)\u001b[0m\u001b[1;33m\u001b[0m\u001b[1;33m\u001b[0m\u001b[0m\n\u001b[1;32m-> 5152\u001b[1;33m             \u001b[1;32mreturn\u001b[0m \u001b[0mobject\u001b[0m\u001b[1;33m.\u001b[0m\u001b[0m__setattr__\u001b[0m\u001b[1;33m(\u001b[0m\u001b[0mself\u001b[0m\u001b[1;33m,\u001b[0m \u001b[0mname\u001b[0m\u001b[1;33m,\u001b[0m \u001b[0mvalue\u001b[0m\u001b[1;33m)\u001b[0m\u001b[1;33m\u001b[0m\u001b[1;33m\u001b[0m\u001b[0m\n\u001b[0m\u001b[0;32m   5153\u001b[0m         \u001b[1;32mexcept\u001b[0m \u001b[0mAttributeError\u001b[0m\u001b[1;33m:\u001b[0m\u001b[1;33m\u001b[0m\u001b[1;33m\u001b[0m\u001b[0m\n\u001b[0;32m   5154\u001b[0m             \u001b[1;32mpass\u001b[0m\u001b[1;33m\u001b[0m\u001b[1;33m\u001b[0m\u001b[0m\n",
      "\u001b[1;32mpandas\\_libs\\properties.pyx\u001b[0m in \u001b[0;36mpandas._libs.properties.AxisProperty.__set__\u001b[1;34m()\u001b[0m\n",
      "\u001b[1;32m~\\anaconda3\\envs\\django_practice\\lib\\site-packages\\pandas\\core\\generic.py\u001b[0m in \u001b[0;36m_set_axis\u001b[1;34m(self, axis, labels)\u001b[0m\n\u001b[0;32m    562\u001b[0m     \u001b[1;32mdef\u001b[0m \u001b[0m_set_axis\u001b[0m\u001b[1;33m(\u001b[0m\u001b[0mself\u001b[0m\u001b[1;33m,\u001b[0m \u001b[0maxis\u001b[0m\u001b[1;33m:\u001b[0m \u001b[0mint\u001b[0m\u001b[1;33m,\u001b[0m \u001b[0mlabels\u001b[0m\u001b[1;33m:\u001b[0m \u001b[0mIndex\u001b[0m\u001b[1;33m)\u001b[0m \u001b[1;33m->\u001b[0m \u001b[1;32mNone\u001b[0m\u001b[1;33m:\u001b[0m\u001b[1;33m\u001b[0m\u001b[1;33m\u001b[0m\u001b[0m\n\u001b[0;32m    563\u001b[0m         \u001b[0mlabels\u001b[0m \u001b[1;33m=\u001b[0m \u001b[0mensure_index\u001b[0m\u001b[1;33m(\u001b[0m\u001b[0mlabels\u001b[0m\u001b[1;33m)\u001b[0m\u001b[1;33m\u001b[0m\u001b[1;33m\u001b[0m\u001b[0m\n\u001b[1;32m--> 564\u001b[1;33m         \u001b[0mself\u001b[0m\u001b[1;33m.\u001b[0m\u001b[0m_mgr\u001b[0m\u001b[1;33m.\u001b[0m\u001b[0mset_axis\u001b[0m\u001b[1;33m(\u001b[0m\u001b[0maxis\u001b[0m\u001b[1;33m,\u001b[0m \u001b[0mlabels\u001b[0m\u001b[1;33m)\u001b[0m\u001b[1;33m\u001b[0m\u001b[1;33m\u001b[0m\u001b[0m\n\u001b[0m\u001b[0;32m    565\u001b[0m         \u001b[0mself\u001b[0m\u001b[1;33m.\u001b[0m\u001b[0m_clear_item_cache\u001b[0m\u001b[1;33m(\u001b[0m\u001b[1;33m)\u001b[0m\u001b[1;33m\u001b[0m\u001b[1;33m\u001b[0m\u001b[0m\n\u001b[0;32m    566\u001b[0m \u001b[1;33m\u001b[0m\u001b[0m\n",
      "\u001b[1;32m~\\anaconda3\\envs\\django_practice\\lib\\site-packages\\pandas\\core\\internals\\managers.py\u001b[0m in \u001b[0;36mset_axis\u001b[1;34m(self, axis, new_labels)\u001b[0m\n\u001b[0;32m    224\u001b[0m \u001b[1;33m\u001b[0m\u001b[0m\n\u001b[0;32m    225\u001b[0m         \u001b[1;32mif\u001b[0m \u001b[0mnew_len\u001b[0m \u001b[1;33m!=\u001b[0m \u001b[0mold_len\u001b[0m\u001b[1;33m:\u001b[0m\u001b[1;33m\u001b[0m\u001b[1;33m\u001b[0m\u001b[0m\n\u001b[1;32m--> 226\u001b[1;33m             raise ValueError(\n\u001b[0m\u001b[0;32m    227\u001b[0m                 \u001b[1;34mf\"Length mismatch: Expected axis has {old_len} elements, new \"\u001b[0m\u001b[1;33m\u001b[0m\u001b[1;33m\u001b[0m\u001b[0m\n\u001b[0;32m    228\u001b[0m                 \u001b[1;34mf\"values have {new_len} elements\"\u001b[0m\u001b[1;33m\u001b[0m\u001b[1;33m\u001b[0m\u001b[0m\n",
      "\u001b[1;31mValueError\u001b[0m: Length mismatch: Expected axis has 0 elements, new values have 31 elements"
     ]
    }
   ],
   "source": [
    "# stock = Stock.objects.filter(company='2368').order_by('date')\n",
    "# opens = []\n",
    "# highs = []\n",
    "# lows = []\n",
    "# closes = []\n",
    "# volumes = []\n",
    "# dates = []\n",
    "# for data in stock:\n",
    "#     opens.append(data.open)\n",
    "#     highs.append(data.high)\n",
    "#     lows.append(data.low)\n",
    "#     closes.append(data.close)\n",
    "#     volumes.append(data.volume)\n",
    "#     dates.append(data.date)"
   ]
  },
  {
   "cell_type": "code",
   "execution_count": 34,
   "metadata": {},
   "outputs": [],
   "source": [
    "\n",
    "df = pd.DataFrame()\n",
    "# df.index = dates\n",
    "# df.index.name = 'Date'\n",
    "df['Open'] = opens\n",
    "df['High'] = highs\n",
    "df['Low'] = lows\n",
    "df['Close'] = closes\n",
    "df['Volume'] = volumes"
   ]
  },
  {
   "cell_type": "code",
   "execution_count": 38,
   "metadata": {},
   "outputs": [
    {
     "output_type": "execute_result",
     "data": {
      "text/plain": [
       "             Open   High    Low  Close   Volume\n",
       "2020-10-23  48.40  48.45  47.50  47.60  16617.0\n",
       "2020-10-26  47.65  47.80  46.00  46.10  24400.0\n",
       "2020-10-27  45.60  46.50  45.20  45.80  19592.0\n",
       "2020-10-28  45.80  45.85  44.10  44.55  23922.0\n",
       "2020-10-29  43.10  45.05  42.70  44.95  18982.0\n",
       "2020-10-30  44.65  45.10  43.65  43.95  12839.0\n",
       "2020-11-02  44.10  44.50  42.80  43.20  13044.0\n",
       "2020-11-03  43.80  44.90  43.40  44.85  12628.0\n",
       "2020-11-04  45.50  45.65  44.55  45.15  15255.0\n",
       "2020-11-05  45.50  45.50  44.35  44.40  12506.0\n",
       "2020-11-06  44.75  45.50  44.30  44.30  11406.0\n",
       "2020-11-09  44.65  45.20  43.80  44.90  15184.0\n",
       "2020-11-10  45.05  45.40  43.90  44.00  13593.0\n",
       "2020-11-11  44.10  44.45  43.50  43.65  10421.0\n",
       "2020-11-12  43.95  44.80  43.80  44.45  12395.0\n",
       "2020-11-13  44.30  44.45  43.80  44.10   6426.0\n",
       "2020-11-16  44.30  44.75  44.00  44.35  10703.0\n",
       "2020-11-17  44.75  46.25  44.60  45.45  24581.0\n",
       "2020-11-18  45.45  47.80  45.40  47.45  35372.0\n",
       "2020-11-19  47.95  48.95  47.55  47.60  43424.0\n",
       "2020-11-20  47.65  48.45  47.60  47.95  16097.0\n",
       "2020-11-23  48.90  49.45  48.10  48.50  22457.0\n",
       "2020-11-24  50.80  52.50  50.20  51.30  85225.0\n",
       "2020-11-25  52.50  53.20  50.10  50.20  55288.0\n",
       "2020-11-26  50.30  52.00  49.15  50.50  44312.0\n",
       "2020-11-27  51.00  51.80  50.50  51.80  23820.0\n",
       "2020-11-30  52.80  53.20  51.50  51.60  27933.0\n",
       "2020-12-01  51.80  52.00  50.10  50.50  16351.0\n",
       "2020-12-02  50.80  51.40  49.60  49.75  15966.0\n",
       "2020-12-03  50.00  51.10  48.70  50.80  20338.0\n",
       "2020-12-04  50.80  50.80  49.45  49.50  15787.0"
      ],
      "text/html": "<div>\n<style scoped>\n    .dataframe tbody tr th:only-of-type {\n        vertical-align: middle;\n    }\n\n    .dataframe tbody tr th {\n        vertical-align: top;\n    }\n\n    .dataframe thead th {\n        text-align: right;\n    }\n</style>\n<table border=\"1\" class=\"dataframe\">\n  <thead>\n    <tr style=\"text-align: right;\">\n      <th></th>\n      <th>Open</th>\n      <th>High</th>\n      <th>Low</th>\n      <th>Close</th>\n      <th>Volume</th>\n    </tr>\n  </thead>\n  <tbody>\n    <tr>\n      <th>2020-10-23</th>\n      <td>48.40</td>\n      <td>48.45</td>\n      <td>47.50</td>\n      <td>47.60</td>\n      <td>16617.0</td>\n    </tr>\n    <tr>\n      <th>2020-10-26</th>\n      <td>47.65</td>\n      <td>47.80</td>\n      <td>46.00</td>\n      <td>46.10</td>\n      <td>24400.0</td>\n    </tr>\n    <tr>\n      <th>2020-10-27</th>\n      <td>45.60</td>\n      <td>46.50</td>\n      <td>45.20</td>\n      <td>45.80</td>\n      <td>19592.0</td>\n    </tr>\n    <tr>\n      <th>2020-10-28</th>\n      <td>45.80</td>\n      <td>45.85</td>\n      <td>44.10</td>\n      <td>44.55</td>\n      <td>23922.0</td>\n    </tr>\n    <tr>\n      <th>2020-10-29</th>\n      <td>43.10</td>\n      <td>45.05</td>\n      <td>42.70</td>\n      <td>44.95</td>\n      <td>18982.0</td>\n    </tr>\n    <tr>\n      <th>2020-10-30</th>\n      <td>44.65</td>\n      <td>45.10</td>\n      <td>43.65</td>\n      <td>43.95</td>\n      <td>12839.0</td>\n    </tr>\n    <tr>\n      <th>2020-11-02</th>\n      <td>44.10</td>\n      <td>44.50</td>\n      <td>42.80</td>\n      <td>43.20</td>\n      <td>13044.0</td>\n    </tr>\n    <tr>\n      <th>2020-11-03</th>\n      <td>43.80</td>\n      <td>44.90</td>\n      <td>43.40</td>\n      <td>44.85</td>\n      <td>12628.0</td>\n    </tr>\n    <tr>\n      <th>2020-11-04</th>\n      <td>45.50</td>\n      <td>45.65</td>\n      <td>44.55</td>\n      <td>45.15</td>\n      <td>15255.0</td>\n    </tr>\n    <tr>\n      <th>2020-11-05</th>\n      <td>45.50</td>\n      <td>45.50</td>\n      <td>44.35</td>\n      <td>44.40</td>\n      <td>12506.0</td>\n    </tr>\n    <tr>\n      <th>2020-11-06</th>\n      <td>44.75</td>\n      <td>45.50</td>\n      <td>44.30</td>\n      <td>44.30</td>\n      <td>11406.0</td>\n    </tr>\n    <tr>\n      <th>2020-11-09</th>\n      <td>44.65</td>\n      <td>45.20</td>\n      <td>43.80</td>\n      <td>44.90</td>\n      <td>15184.0</td>\n    </tr>\n    <tr>\n      <th>2020-11-10</th>\n      <td>45.05</td>\n      <td>45.40</td>\n      <td>43.90</td>\n      <td>44.00</td>\n      <td>13593.0</td>\n    </tr>\n    <tr>\n      <th>2020-11-11</th>\n      <td>44.10</td>\n      <td>44.45</td>\n      <td>43.50</td>\n      <td>43.65</td>\n      <td>10421.0</td>\n    </tr>\n    <tr>\n      <th>2020-11-12</th>\n      <td>43.95</td>\n      <td>44.80</td>\n      <td>43.80</td>\n      <td>44.45</td>\n      <td>12395.0</td>\n    </tr>\n    <tr>\n      <th>2020-11-13</th>\n      <td>44.30</td>\n      <td>44.45</td>\n      <td>43.80</td>\n      <td>44.10</td>\n      <td>6426.0</td>\n    </tr>\n    <tr>\n      <th>2020-11-16</th>\n      <td>44.30</td>\n      <td>44.75</td>\n      <td>44.00</td>\n      <td>44.35</td>\n      <td>10703.0</td>\n    </tr>\n    <tr>\n      <th>2020-11-17</th>\n      <td>44.75</td>\n      <td>46.25</td>\n      <td>44.60</td>\n      <td>45.45</td>\n      <td>24581.0</td>\n    </tr>\n    <tr>\n      <th>2020-11-18</th>\n      <td>45.45</td>\n      <td>47.80</td>\n      <td>45.40</td>\n      <td>47.45</td>\n      <td>35372.0</td>\n    </tr>\n    <tr>\n      <th>2020-11-19</th>\n      <td>47.95</td>\n      <td>48.95</td>\n      <td>47.55</td>\n      <td>47.60</td>\n      <td>43424.0</td>\n    </tr>\n    <tr>\n      <th>2020-11-20</th>\n      <td>47.65</td>\n      <td>48.45</td>\n      <td>47.60</td>\n      <td>47.95</td>\n      <td>16097.0</td>\n    </tr>\n    <tr>\n      <th>2020-11-23</th>\n      <td>48.90</td>\n      <td>49.45</td>\n      <td>48.10</td>\n      <td>48.50</td>\n      <td>22457.0</td>\n    </tr>\n    <tr>\n      <th>2020-11-24</th>\n      <td>50.80</td>\n      <td>52.50</td>\n      <td>50.20</td>\n      <td>51.30</td>\n      <td>85225.0</td>\n    </tr>\n    <tr>\n      <th>2020-11-25</th>\n      <td>52.50</td>\n      <td>53.20</td>\n      <td>50.10</td>\n      <td>50.20</td>\n      <td>55288.0</td>\n    </tr>\n    <tr>\n      <th>2020-11-26</th>\n      <td>50.30</td>\n      <td>52.00</td>\n      <td>49.15</td>\n      <td>50.50</td>\n      <td>44312.0</td>\n    </tr>\n    <tr>\n      <th>2020-11-27</th>\n      <td>51.00</td>\n      <td>51.80</td>\n      <td>50.50</td>\n      <td>51.80</td>\n      <td>23820.0</td>\n    </tr>\n    <tr>\n      <th>2020-11-30</th>\n      <td>52.80</td>\n      <td>53.20</td>\n      <td>51.50</td>\n      <td>51.60</td>\n      <td>27933.0</td>\n    </tr>\n    <tr>\n      <th>2020-12-01</th>\n      <td>51.80</td>\n      <td>52.00</td>\n      <td>50.10</td>\n      <td>50.50</td>\n      <td>16351.0</td>\n    </tr>\n    <tr>\n      <th>2020-12-02</th>\n      <td>50.80</td>\n      <td>51.40</td>\n      <td>49.60</td>\n      <td>49.75</td>\n      <td>15966.0</td>\n    </tr>\n    <tr>\n      <th>2020-12-03</th>\n      <td>50.00</td>\n      <td>51.10</td>\n      <td>48.70</td>\n      <td>50.80</td>\n      <td>20338.0</td>\n    </tr>\n    <tr>\n      <th>2020-12-04</th>\n      <td>50.80</td>\n      <td>50.80</td>\n      <td>49.45</td>\n      <td>49.50</td>\n      <td>15787.0</td>\n    </tr>\n  </tbody>\n</table>\n</div>"
     },
     "metadata": {},
     "execution_count": 38
    }
   ],
   "source": [
    "df"
   ]
  },
  {
   "cell_type": "code",
   "execution_count": 40,
   "metadata": {},
   "outputs": [],
   "source": [
    "df.index = pd.to_datetime(df.index)"
   ]
  },
  {
   "cell_type": "code",
   "execution_count": 41,
   "metadata": {},
   "outputs": [
    {
     "output_type": "execute_result",
     "data": {
      "text/plain": [
       "DatetimeIndex(['2020-10-23', '2020-10-26', '2020-10-27', '2020-10-28',\n",
       "               '2020-10-29', '2020-10-30', '2020-11-02', '2020-11-03',\n",
       "               '2020-11-04', '2020-11-05', '2020-11-06', '2020-11-09',\n",
       "               '2020-11-10', '2020-11-11', '2020-11-12', '2020-11-13',\n",
       "               '2020-11-16', '2020-11-17', '2020-11-18', '2020-11-19',\n",
       "               '2020-11-20', '2020-11-23', '2020-11-24', '2020-11-25',\n",
       "               '2020-11-26', '2020-11-27', '2020-11-30', '2020-12-01',\n",
       "               '2020-12-02', '2020-12-03', '2020-12-04'],\n",
       "              dtype='datetime64[ns]', freq=None)"
      ]
     },
     "metadata": {},
     "execution_count": 41
    }
   ],
   "source": [
    "df.index"
   ]
  },
  {
   "cell_type": "code",
   "execution_count": null,
   "metadata": {},
   "outputs": [],
   "source": []
  }
 ]
}