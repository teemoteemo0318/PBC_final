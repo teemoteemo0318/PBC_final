{
 "metadata": {
  "language_info": {
   "codemirror_mode": {
    "name": "ipython",
    "version": 3
   },
   "file_extension": ".py",
   "mimetype": "text/x-python",
   "name": "python",
   "nbconvert_exporter": "python",
   "pygments_lexer": "ipython3",
   "version": "3.6.12-final"
  },
  "orig_nbformat": 2,
  "kernelspec": {
   "name": "python3",
   "display_name": "Python 3.6.12 64-bit ('hw1': conda)",
   "metadata": {
    "interpreter": {
     "hash": "6ea30e8cfb1c9806781a4eb3e4c4987d2b971a4a7ed66624341c593de4908058"
    }
   }
  }
 },
 "nbformat": 4,
 "nbformat_minor": 2,
 "cells": [
  {
   "cell_type": "code",
   "execution_count": 2,
   "metadata": {},
   "outputs": [],
   "source": [
    "import requests\n",
    "import pandas as pd\n",
    "from bs4 import BeautifulSoup\n",
    "import numpy\n",
    "import csv\n",
    "import time\n",
    "def craw_new_data(year,month,date):\n",
    "    import requests\n",
    "    import pandas as pd\n",
    "    from bs4 import BeautifulSoup\n",
    "    import numpy\n",
    "    import csv\n",
    "    import time\n",
    "\n",
    "            \n",
    "    info = f'{year}/{month}/{date}'\n",
    "    url = 'https://www.taifex.com.tw/cht/3/optDailyMarketReport'\n",
    "    payload = {'queryType':'2',\n",
    "               'marketCode':'0',\n",
    "               'dateaddcnt':'',\n",
    "               'commodity_id':'TXO',\n",
    "               'commodity_id2':'',\n",
    "               'MarketCode':'0',\n",
    "               'commodity_idt':'TXO',\n",
    "               'commodity_id2t':'',\n",
    "               'commodity_id2t2':'',\n",
    "               'queryDate':info\n",
    "              }\n",
    "    encoding = 'utf8'\n",
    "    r = requests.post(url,data=payload)\n",
    "    r.encoding = encoding\n",
    "    soup = BeautifulSoup(r.content, 'html.parser')\n",
    "\n",
    "    data = pd.DataFrame(columns=['契約','到期月份(週別)','履約價','買賣權','開盤價','最高價','最低價','最後成交價','結算價','盤後交易時段成交量','一般交易時段成交量','合計成交量','未沖銷契約量'])\n",
    "    append_list = {}\n",
    "    count = 0\n",
    "    for i in soup.find_all('tr'):\n",
    "        for j in i.find_all('td',class_ = '12bk'):\n",
    "            count+=1\n",
    "            if count > 18:\n",
    "                if (count-18)%13 == 0:\n",
    "                    data = data.append(append_list, ignore_index=True)\n",
    "                    append_list = {}\n",
    "                    append_list['契約'] = j.text.replace('\\n','').replace(' ','').replace('\\t','').replace('\\r','')\n",
    "                elif (count-18)%13 == 1:\n",
    "                    append_list['到期月份(週別)'] = j.text.replace('\\n','').replace(' ','').replace('\\t','').replace('\\r','')\n",
    "                elif (count-18)%13 == 2:\n",
    "                    append_list['履約價'] = j.text.replace('\\n','').replace(' ','').replace('\\t','').replace('\\r','')\n",
    "                elif (count-18)%13 == 3:\n",
    "                    append_list['買賣權'] = j.text.replace('\\n','').replace(' ','').replace('\\t','').replace('\\r','')\n",
    "                elif (count-18)%13 == 4:\n",
    "                    append_list['開盤價'] = j.text.replace('\\n','').replace(' ','').replace('\\t','').replace('\\r','')\n",
    "                elif (count-18)%13 == 5:\n",
    "                    append_list['最高價'] = j.text.replace('\\n','').replace(' ','').replace('\\t','').replace('\\r','')\n",
    "                elif (count-18)%13 == 6:\n",
    "                    append_list['最低價'] = j.text.replace('\\n','').replace(' ','').replace('\\t','').replace('\\r','')\n",
    "                elif (count-18)%13 == 7:\n",
    "                    append_list['最後成交價'] = j.text.replace('\\n','').replace(' ','').replace('\\t','').replace('\\r','')\n",
    "                elif (count-18)%13 == 8:\n",
    "                    append_list['結算價'] = j.text.replace('\\n','').replace(' ','').replace('\\t','').replace('\\r','')\n",
    "                elif (count-18)%13 == 9:\n",
    "                    append_list['盤後交易時段成交量'] = j.text.replace('\\n','').replace(' ','').replace('\\t','').replace('\\r','')\n",
    "                elif (count-18)%13 == 10:\n",
    "                    append_list['一般交易時段成交量'] = j.text.replace('\\n','').replace(' ','').replace('\\t','').replace('\\r','')\n",
    "                elif (count-18)%13 == 11:\n",
    "                    append_list['合計成交量'] = j.text.replace('\\n','').replace(' ','').replace('\\t','').replace('\\r','')\n",
    "                elif (count-18)%13 == 12:\n",
    "                    append_list['未沖銷契約量'] = j.text.replace('\\n','').replace(' ','').replace('\\t','').replace('\\r','')\n",
    "    data.to_csv(f'../static/option_data/option_data_{year}_{month}_{date}.csv',index=False,encoding='cp950')\n",
    "    return data"
   ]
  },
  {
   "cell_type": "code",
   "execution_count": 30,
   "metadata": {},
   "outputs": [
    {
     "output_type": "stream",
     "name": "stdout",
     "text": [
      "已爬完2020-12-25之資料\n",
      "已爬完2020-12-24之資料\n",
      "已爬完2020-12-21之資料\n",
      "已爬完2020-12-20之資料\n",
      "已爬完2020-12-19之資料\n",
      "已爬完2020-12-18之資料\n",
      "已爬完2020-12-17之資料\n"
     ]
    }
   ],
   "source": [
    "import datetime as dt \n",
    "day = dt.date.today()\n",
    "\n",
    "for i in range(360):\n",
    "    try:\n",
    "        day = day - dt.timedelta(days=1)\n",
    "        craw_new_data(day.year, day.month, day.day)\n",
    "        print('已爬完{}之資料'.format(day))\n",
    "    except:\n",
    "        pass"
   ]
  },
  {
   "cell_type": "code",
   "execution_count": 3,
   "metadata": {},
   "outputs": [
    {
     "output_type": "execute_result",
     "data": {
      "text/plain": [
       "         契約  到期月份(週別)    履約價   買賣權   開盤價       最高價    最低價 最後成交價   結算價  \\\n",
       "0       NaN  202012W1  12300  Call     -         -      -     -  1590   \n",
       "1       TXO  202012W1  12300   Put   0.2       0.2    0.2   0.2   0.2   \n",
       "2       0.1       0.2    1.1   0.2   TXO  202012W1  12400  Call     -   \n",
       "3         0         0      0     0  1290      1580      -     -   TXO   \n",
       "4       0.3       0.2    0.2   0.2   149       101    250   908     -   \n",
       "..      ...       ...    ...   ...   ...       ...    ...   ...   ...   \n",
       "698     TXO    202106  16600  Call     -         -      -     -    28   \n",
       "699       9       146     29    10   TXO    202106  16600   Put     -   \n",
       "700       0         0      0     0  2990      3280      -     -   TXO   \n",
       "701       -         -      -    19     2         0      2  3029    19   \n",
       "702  202106     17000    Put     -     -         -      -  3500     0   \n",
       "\n",
       "    盤後交易時段成交量 一般交易時段成交量 合計成交量 未沖銷契約量  \n",
       "0           0         0     0      0  \n",
       "1         647       186   833   1018  \n",
       "2           -         -     -   1490  \n",
       "3    202012W1     12400   Put    0.3  \n",
       "4         0.3       2.2   0.2    TXO  \n",
       "..        ...       ...   ...    ...  \n",
       "698         0         0     0      9  \n",
       "699         -         -     -   3110  \n",
       "700    202106     17000  Call      -  \n",
       "701      29.5        26    20    TXO  \n",
       "702         0         0     0   3380  \n",
       "\n",
       "[703 rows x 13 columns]"
      ],
      "text/html": "<div>\n<style scoped>\n    .dataframe tbody tr th:only-of-type {\n        vertical-align: middle;\n    }\n\n    .dataframe tbody tr th {\n        vertical-align: top;\n    }\n\n    .dataframe thead th {\n        text-align: right;\n    }\n</style>\n<table border=\"1\" class=\"dataframe\">\n  <thead>\n    <tr style=\"text-align: right;\">\n      <th></th>\n      <th>契約</th>\n      <th>到期月份(週別)</th>\n      <th>履約價</th>\n      <th>買賣權</th>\n      <th>開盤價</th>\n      <th>最高價</th>\n      <th>最低價</th>\n      <th>最後成交價</th>\n      <th>結算價</th>\n      <th>盤後交易時段成交量</th>\n      <th>一般交易時段成交量</th>\n      <th>合計成交量</th>\n      <th>未沖銷契約量</th>\n    </tr>\n  </thead>\n  <tbody>\n    <tr>\n      <td>0</td>\n      <td>NaN</td>\n      <td>202012W1</td>\n      <td>12300</td>\n      <td>Call</td>\n      <td>-</td>\n      <td>-</td>\n      <td>-</td>\n      <td>-</td>\n      <td>1590</td>\n      <td>0</td>\n      <td>0</td>\n      <td>0</td>\n      <td>0</td>\n    </tr>\n    <tr>\n      <td>1</td>\n      <td>TXO</td>\n      <td>202012W1</td>\n      <td>12300</td>\n      <td>Put</td>\n      <td>0.2</td>\n      <td>0.2</td>\n      <td>0.2</td>\n      <td>0.2</td>\n      <td>0.2</td>\n      <td>647</td>\n      <td>186</td>\n      <td>833</td>\n      <td>1018</td>\n    </tr>\n    <tr>\n      <td>2</td>\n      <td>0.1</td>\n      <td>0.2</td>\n      <td>1.1</td>\n      <td>0.2</td>\n      <td>TXO</td>\n      <td>202012W1</td>\n      <td>12400</td>\n      <td>Call</td>\n      <td>-</td>\n      <td>-</td>\n      <td>-</td>\n      <td>-</td>\n      <td>1490</td>\n    </tr>\n    <tr>\n      <td>3</td>\n      <td>0</td>\n      <td>0</td>\n      <td>0</td>\n      <td>0</td>\n      <td>1290</td>\n      <td>1580</td>\n      <td>-</td>\n      <td>-</td>\n      <td>TXO</td>\n      <td>202012W1</td>\n      <td>12400</td>\n      <td>Put</td>\n      <td>0.3</td>\n    </tr>\n    <tr>\n      <td>4</td>\n      <td>0.3</td>\n      <td>0.2</td>\n      <td>0.2</td>\n      <td>0.2</td>\n      <td>149</td>\n      <td>101</td>\n      <td>250</td>\n      <td>908</td>\n      <td>-</td>\n      <td>0.3</td>\n      <td>2.2</td>\n      <td>0.2</td>\n      <td>TXO</td>\n    </tr>\n    <tr>\n      <td>...</td>\n      <td>...</td>\n      <td>...</td>\n      <td>...</td>\n      <td>...</td>\n      <td>...</td>\n      <td>...</td>\n      <td>...</td>\n      <td>...</td>\n      <td>...</td>\n      <td>...</td>\n      <td>...</td>\n      <td>...</td>\n      <td>...</td>\n    </tr>\n    <tr>\n      <td>698</td>\n      <td>TXO</td>\n      <td>202106</td>\n      <td>16600</td>\n      <td>Call</td>\n      <td>-</td>\n      <td>-</td>\n      <td>-</td>\n      <td>-</td>\n      <td>28</td>\n      <td>0</td>\n      <td>0</td>\n      <td>0</td>\n      <td>9</td>\n    </tr>\n    <tr>\n      <td>699</td>\n      <td>9</td>\n      <td>146</td>\n      <td>29</td>\n      <td>10</td>\n      <td>TXO</td>\n      <td>202106</td>\n      <td>16600</td>\n      <td>Put</td>\n      <td>-</td>\n      <td>-</td>\n      <td>-</td>\n      <td>-</td>\n      <td>3110</td>\n    </tr>\n    <tr>\n      <td>700</td>\n      <td>0</td>\n      <td>0</td>\n      <td>0</td>\n      <td>0</td>\n      <td>2990</td>\n      <td>3280</td>\n      <td>-</td>\n      <td>-</td>\n      <td>TXO</td>\n      <td>202106</td>\n      <td>17000</td>\n      <td>Call</td>\n      <td>-</td>\n    </tr>\n    <tr>\n      <td>701</td>\n      <td>-</td>\n      <td>-</td>\n      <td>-</td>\n      <td>19</td>\n      <td>2</td>\n      <td>0</td>\n      <td>2</td>\n      <td>3029</td>\n      <td>19</td>\n      <td>29.5</td>\n      <td>26</td>\n      <td>20</td>\n      <td>TXO</td>\n    </tr>\n    <tr>\n      <td>702</td>\n      <td>202106</td>\n      <td>17000</td>\n      <td>Put</td>\n      <td>-</td>\n      <td>-</td>\n      <td>-</td>\n      <td>-</td>\n      <td>3500</td>\n      <td>0</td>\n      <td>0</td>\n      <td>0</td>\n      <td>0</td>\n      <td>3380</td>\n    </tr>\n  </tbody>\n</table>\n<p>703 rows × 13 columns</p>\n</div>"
     },
     "metadata": {},
     "execution_count": 3
    }
   ],
   "source": [
    "craw_new_data('2020','12','1')"
   ]
  },
  {
   "cell_type": "code",
   "execution_count": 4,
   "metadata": {},
   "outputs": [
    {
     "output_type": "execute_result",
     "data": {
      "text/plain": [
       "'4.9.3'"
      ]
     },
     "metadata": {},
     "execution_count": 4
    }
   ],
   "source": [
    "import bs4\n",
    "bs4.__version__"
   ]
  },
  {
   "cell_type": "code",
   "execution_count": null,
   "metadata": {},
   "outputs": [],
   "source": []
  }
 ]
}