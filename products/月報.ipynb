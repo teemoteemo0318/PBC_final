{
 "metadata": {
  "language_info": {
   "codemirror_mode": {
    "name": "ipython",
    "version": 3
   },
   "file_extension": ".py",
   "mimetype": "text/x-python",
   "name": "python",
   "nbconvert_exporter": "python",
   "pygments_lexer": "ipython3",
   "version": "3.8.5-final"
  },
  "orig_nbformat": 2,
  "kernelspec": {
   "name": "python3",
   "display_name": "Python 3.8.5 64-bit ('base': conda)",
   "metadata": {
    "interpreter": {
     "hash": "6d46af94c2bbce495f1e668725902fa517c90b1782bcfe2fce0dd9868df553d3"
    }
   }
  }
 },
 "nbformat": 4,
 "nbformat_minor": 2,
 "cells": [
  {
   "cell_type": "code",
   "execution_count": 1,
   "metadata": {},
   "outputs": [],
   "source": [
    "import requests\n",
    "from io import StringIO\n",
    "import pandas as pd\n",
    "\n",
    "def monthly_report_crawler(year, month):\n",
    "    url = 'https://mops.twse.com.tw/nas/t21/sii/t21sc03_{}_{}_0.html'.format(year, month)\n",
    "    r = requests.get(url)\n",
    "    r.encoding = 'big5'\n",
    "    dfs = pd.read_html(StringIO(r.text), encoding='big5')\n",
    "    count = 0\n",
    "    for i in range(len(dfs)):\n",
    "        if len(dfs[i]) > 1:\n",
    "            if count == 0:\n",
    "                df = dfs[i]\n",
    "                cols = [i[1] for i in dfs[4].columns]\n",
    "                count += 1\n",
    "            else:\n",
    "                df = pd.concat((df,dfs[i]), axis=0)\n",
    "                count += 1\n",
    "    df.columns = cols\n",
    "    df = df[df['公司代號'] != '合計']\n",
    "    return df\n"
   ]
  },
  {
   "cell_type": "code",
   "execution_count": 6,
   "metadata": {},
   "outputs": [
    {
     "output_type": "stream",
     "name": "stdout",
     "text": [
      "Fail to Download monthly_report_90_1 !\n",
      "Fail to Download monthly_report_90_2 !\n",
      "Fail to Download monthly_report_90_3 !\n",
      "Fail to Download monthly_report_90_4 !\n",
      "Fail to Download monthly_report_90_5 !\n",
      "Fail to Download monthly_report_90_6 !\n",
      "Fail to Download monthly_report_90_7 !\n",
      "Fail to Download monthly_report_90_8 !\n",
      "Fail to Download monthly_report_90_9 !\n",
      "Fail to Download monthly_report_90_10 !\n",
      "Fail to Download monthly_report_90_11 !\n",
      "Fail to Download monthly_report_90_12 !\n",
      "Fail to Download monthly_report_91_1 !\n",
      "Fail to Download monthly_report_91_2 !\n",
      "Fail to Download monthly_report_91_3 !\n",
      "Fail to Download monthly_report_91_4 !\n",
      "Fail to Download monthly_report_91_5 !\n",
      "Fail to Download monthly_report_91_6 !\n",
      "Fail to Download monthly_report_91_7 !\n",
      "Fail to Download monthly_report_91_8 !\n",
      "Fail to Download monthly_report_91_9 !\n",
      "Fail to Download monthly_report_91_10 !\n",
      "Fail to Download monthly_report_91_11 !\n",
      "Fail to Download monthly_report_91_12 !\n",
      "Fail to Download monthly_report_92_1 !\n",
      "Fail to Download monthly_report_92_2 !\n",
      "Fail to Download monthly_report_92_3 !\n",
      "Fail to Download monthly_report_92_4 !\n",
      "Fail to Download monthly_report_92_5 !\n",
      "Fail to Download monthly_report_92_6 !\n",
      "Fail to Download monthly_report_92_7 !\n",
      "Fail to Download monthly_report_92_8 !\n",
      "Fail to Download monthly_report_92_9 !\n",
      "Fail to Download monthly_report_92_10 !\n",
      "Fail to Download monthly_report_92_11 !\n",
      "Fail to Download monthly_report_92_12 !\n",
      "Fail to Download monthly_report_93_1 !\n",
      "Fail to Download monthly_report_93_2 !\n",
      "Fail to Download monthly_report_93_3 !\n",
      "Fail to Download monthly_report_93_4 !\n",
      "Fail to Download monthly_report_93_5 !\n",
      "Fail to Download monthly_report_93_6 !\n",
      "Fail to Download monthly_report_93_7 !\n",
      "Fail to Download monthly_report_93_8 !\n",
      "Fail to Download monthly_report_93_9 !\n",
      "Fail to Download monthly_report_93_10 !\n",
      "Fail to Download monthly_report_93_11 !\n",
      "Fail to Download monthly_report_93_12 !\n",
      "Fail to Download monthly_report_94_1 !\n",
      "Fail to Download monthly_report_94_2 !\n",
      "Fail to Download monthly_report_94_3 !\n",
      "Fail to Download monthly_report_94_4 !\n",
      "Fail to Download monthly_report_94_5 !\n",
      "Fail to Download monthly_report_94_6 !\n",
      "Fail to Download monthly_report_94_7 !\n",
      "Fail to Download monthly_report_94_8 !\n",
      "Fail to Download monthly_report_94_9 !\n",
      "Fail to Download monthly_report_94_10 !\n",
      "Fail to Download monthly_report_94_11 !\n",
      "Fail to Download monthly_report_94_12 !\n",
      "Fail to Download monthly_report_95_1 !\n",
      "Fail to Download monthly_report_95_2 !\n",
      "Fail to Download monthly_report_95_3 !\n",
      "Fail to Download monthly_report_95_4 !\n",
      "Fail to Download monthly_report_95_5 !\n",
      "Fail to Download monthly_report_95_6 !\n",
      "Fail to Download monthly_report_95_7 !\n",
      "Fail to Download monthly_report_95_8 !\n",
      "Fail to Download monthly_report_95_9 !\n",
      "Fail to Download monthly_report_95_10 !\n",
      "Fail to Download monthly_report_95_11 !\n",
      "Fail to Download monthly_report_95_12 !\n",
      "Fail to Download monthly_report_96_1 !\n",
      "Fail to Download monthly_report_96_2 !\n",
      "Fail to Download monthly_report_96_3 !\n",
      "Fail to Download monthly_report_96_4 !\n",
      "Fail to Download monthly_report_96_5 !\n",
      "Fail to Download monthly_report_96_6 !\n",
      "Fail to Download monthly_report_96_7 !\n",
      "Fail to Download monthly_report_96_8 !\n",
      "Fail to Download monthly_report_96_9 !\n",
      "Fail to Download monthly_report_96_10 !\n",
      "Fail to Download monthly_report_96_11 !\n",
      "Fail to Download monthly_report_96_12 !\n",
      "Fail to Download monthly_report_97_1 !\n",
      "Fail to Download monthly_report_97_2 !\n",
      "Fail to Download monthly_report_97_3 !\n",
      "Fail to Download monthly_report_97_4 !\n",
      "Fail to Download monthly_report_97_5 !\n",
      "Fail to Download monthly_report_97_6 !\n",
      "Fail to Download monthly_report_97_7 !\n",
      "Fail to Download monthly_report_97_8 !\n",
      "Fail to Download monthly_report_97_9 !\n",
      "Fail to Download monthly_report_97_10 !\n",
      "Fail to Download monthly_report_97_11 !\n",
      "Fail to Download monthly_report_97_12 !\n",
      "Fail to Download monthly_report_98_1 !\n",
      "Fail to Download monthly_report_98_2 !\n",
      "Fail to Download monthly_report_98_3 !\n",
      "Fail to Download monthly_report_98_4 !\n",
      "Fail to Download monthly_report_98_5 !\n",
      "Fail to Download monthly_report_98_6 !\n",
      "Fail to Download monthly_report_98_7 !\n",
      "Fail to Download monthly_report_98_8 !\n",
      "Fail to Download monthly_report_98_9 !\n",
      "Fail to Download monthly_report_98_10 !\n",
      "Fail to Download monthly_report_98_11 !\n",
      "Fail to Download monthly_report_98_12 !\n",
      "Fail to Download monthly_report_99_1 !\n",
      "Fail to Download monthly_report_99_2 !\n",
      "Fail to Download monthly_report_99_3 !\n",
      "Fail to Download monthly_report_99_4 !\n",
      "Fail to Download monthly_report_99_5 !\n",
      "Fail to Download monthly_report_99_6 !\n",
      "Fail to Download monthly_report_99_7 !\n",
      "Fail to Download monthly_report_99_8 !\n",
      "Fail to Download monthly_report_99_9 !\n",
      "Fail to Download monthly_report_99_10 !\n",
      "Fail to Download monthly_report_99_11 !\n",
      "Fail to Download monthly_report_99_12 !\n",
      "Fail to Download monthly_report_100_1 !\n",
      "Fail to Download monthly_report_100_2 !\n",
      "Fail to Download monthly_report_100_3 !\n",
      "Fail to Download monthly_report_100_4 !\n",
      "Fail to Download monthly_report_100_5 !\n",
      "Fail to Download monthly_report_100_6 !\n",
      "Fail to Download monthly_report_100_7 !\n",
      "Fail to Download monthly_report_100_8 !\n",
      "Fail to Download monthly_report_100_9 !\n",
      "Fail to Download monthly_report_100_10 !\n",
      "Fail to Download monthly_report_100_11 !\n",
      "Fail to Download monthly_report_100_12 !\n",
      "Download monthly_report_101_1 Successfully!\n",
      "Download monthly_report_101_2 Successfully!\n",
      "Download monthly_report_101_3 Successfully!\n",
      "Download monthly_report_101_4 Successfully!\n",
      "Download monthly_report_101_5 Successfully!\n",
      "Download monthly_report_101_6 Successfully!\n",
      "Download monthly_report_101_7 Successfully!\n",
      "Download monthly_report_101_8 Successfully!\n",
      "Download monthly_report_101_9 Successfully!\n",
      "Download monthly_report_101_10 Successfully!\n",
      "Download monthly_report_101_11 Successfully!\n",
      "Download monthly_report_101_12 Successfully!\n",
      "Download monthly_report_102_1 Successfully!\n",
      "Download monthly_report_102_2 Successfully!\n",
      "Download monthly_report_102_3 Successfully!\n",
      "Download monthly_report_102_4 Successfully!\n",
      "Download monthly_report_102_5 Successfully!\n",
      "Download monthly_report_102_6 Successfully!\n",
      "Download monthly_report_102_7 Successfully!\n",
      "Download monthly_report_102_8 Successfully!\n",
      "Download monthly_report_102_9 Successfully!\n",
      "Download monthly_report_102_10 Successfully!\n",
      "Download monthly_report_102_11 Successfully!\n",
      "Download monthly_report_102_12 Successfully!\n",
      "Download monthly_report_103_1 Successfully!\n",
      "Download monthly_report_103_2 Successfully!\n",
      "Download monthly_report_103_3 Successfully!\n",
      "Download monthly_report_103_4 Successfully!\n",
      "Download monthly_report_103_5 Successfully!\n",
      "Download monthly_report_103_6 Successfully!\n",
      "Download monthly_report_103_7 Successfully!\n",
      "Download monthly_report_103_8 Successfully!\n",
      "Download monthly_report_103_9 Successfully!\n",
      "Download monthly_report_103_10 Successfully!\n",
      "Download monthly_report_103_11 Successfully!\n",
      "Download monthly_report_103_12 Successfully!\n",
      "Download monthly_report_104_1 Successfully!\n",
      "Download monthly_report_104_2 Successfully!\n",
      "Download monthly_report_104_3 Successfully!\n",
      "Download monthly_report_104_4 Successfully!\n",
      "Download monthly_report_104_5 Successfully!\n",
      "Download monthly_report_104_6 Successfully!\n",
      "Download monthly_report_104_7 Successfully!\n",
      "Download monthly_report_104_8 Successfully!\n",
      "Download monthly_report_104_9 Successfully!\n",
      "Download monthly_report_104_10 Successfully!\n",
      "Download monthly_report_104_11 Successfully!\n",
      "Download monthly_report_104_12 Successfully!\n",
      "Download monthly_report_105_1 Successfully!\n",
      "Download monthly_report_105_2 Successfully!\n",
      "Download monthly_report_105_3 Successfully!\n",
      "Download monthly_report_105_4 Successfully!\n",
      "Download monthly_report_105_5 Successfully!\n",
      "Download monthly_report_105_6 Successfully!\n",
      "Download monthly_report_105_7 Successfully!\n",
      "Download monthly_report_105_8 Successfully!\n",
      "Download monthly_report_105_9 Successfully!\n",
      "Download monthly_report_105_10 Successfully!\n",
      "Download monthly_report_105_11 Successfully!\n",
      "Download monthly_report_105_12 Successfully!\n",
      "Download monthly_report_106_1 Successfully!\n",
      "Download monthly_report_106_2 Successfully!\n",
      "Download monthly_report_106_3 Successfully!\n",
      "Download monthly_report_106_4 Successfully!\n",
      "Download monthly_report_106_5 Successfully!\n",
      "Download monthly_report_106_6 Successfully!\n",
      "Download monthly_report_106_7 Successfully!\n",
      "Download monthly_report_106_8 Successfully!\n",
      "Download monthly_report_106_9 Successfully!\n",
      "Download monthly_report_106_10 Successfully!\n",
      "Download monthly_report_106_11 Successfully!\n",
      "Download monthly_report_106_12 Successfully!\n",
      "Download monthly_report_107_1 Successfully!\n",
      "Download monthly_report_107_2 Successfully!\n",
      "Download monthly_report_107_3 Successfully!\n",
      "Download monthly_report_107_4 Successfully!\n",
      "Download monthly_report_107_5 Successfully!\n",
      "Download monthly_report_107_6 Successfully!\n",
      "Download monthly_report_107_7 Successfully!\n",
      "Download monthly_report_107_8 Successfully!\n",
      "Download monthly_report_107_9 Successfully!\n",
      "Download monthly_report_107_10 Successfully!\n",
      "Download monthly_report_107_11 Successfully!\n",
      "Download monthly_report_107_12 Successfully!\n",
      "Download monthly_report_108_1 Successfully!\n",
      "Download monthly_report_108_2 Successfully!\n",
      "Download monthly_report_108_3 Successfully!\n",
      "Download monthly_report_108_4 Successfully!\n",
      "Download monthly_report_108_5 Successfully!\n",
      "Download monthly_report_108_6 Successfully!\n",
      "Download monthly_report_108_7 Successfully!\n",
      "Download monthly_report_108_8 Successfully!\n",
      "Download monthly_report_108_9 Successfully!\n",
      "Download monthly_report_108_10 Successfully!\n",
      "Download monthly_report_108_11 Successfully!\n",
      "Download monthly_report_108_12 Successfully!\n",
      "Download monthly_report_109_1 Successfully!\n",
      "Download monthly_report_109_2 Successfully!\n",
      "Download monthly_report_109_3 Successfully!\n",
      "Download monthly_report_109_4 Successfully!\n",
      "Download monthly_report_109_5 Successfully!\n",
      "Download monthly_report_109_6 Successfully!\n",
      "Download monthly_report_109_7 Successfully!\n",
      "Download monthly_report_109_8 Successfully!\n",
      "Download monthly_report_109_9 Successfully!\n",
      "Download monthly_report_109_10 Successfully!\n",
      "Download monthly_report_109_11 Successfully!\n",
      "Fail to Download monthly_report_109_12 !\n"
     ]
    }
   ],
   "source": [
    "import os\n",
    "import datetime\n",
    "# build main dir\n",
    "main_dir = os.path.join('data', 'monthly_report')\n",
    "if not os.path.isdir(main_dir):\n",
    "    os.mkdir(main_dir)\n",
    "\n",
    "for year in range(90,110):\n",
    "    for month in range(1,13):\n",
    "        try:\n",
    "            df = monthly_report_crawler(year, month)\n",
    "            df.to_csv(os.path.join(main_dir,'monthly_report_{}_{}.csv'.format(year, month)), index=None, encoding='utf-8-sig')\n",
    "            print('Download monthly_report_{}_{} Successfully!'.format(year, month))\n",
    "        except:\n",
    "            print('Fail to Download monthly_report_{}_{} !'.format(year, month))"
   ]
  },
  {
   "cell_type": "code",
   "execution_count": 14,
   "metadata": {},
   "outputs": [],
   "source": [
    "# 得到個股的月營收資料\n",
    "\n",
    "year = 109\n",
    "month = 11\n",
    "main_dir = os.path.join('data', 'monthly_report')\n",
    "result = pd.DataFrame()\n",
    "profit_list = []\n",
    "date_list = []\n",
    "df = pd.read_csv(os.path.join(main_dir, 'monthly_report_{}_{}.csv'.format(year, month)))"
   ]
  },
  {
   "cell_type": "code",
   "execution_count": 66,
   "metadata": {},
   "outputs": [],
   "source": [
    "def get_monthly_profit(ticker):\n",
    "    main_dir = os.path.join('data', 'monthly_report')\n",
    "    files = os.listdir(main_dir)\n",
    "    result = pd.DataFrame()\n",
    "    profit_list = []\n",
    "    date_list = []\n",
    "    for file in files:\n",
    "        if '.csv' not in file:\n",
    "            continue\n",
    "        _, _, year, month = file.replace('.csv', '').split('_')\n",
    "        df = pd.read_csv(os.path.join(main_dir, 'monthly_report_{}_{}.csv'.format(year, month)))\n",
    "        profit = df[df['公司代號'] == ticker]['當月營收'].values[0]\n",
    "        time = '{}-{}'.format(1911+int(year), month)\n",
    "        profit_list.append(profit)\n",
    "        date_list.append(time)\n",
    "    result['date'] = date_list\n",
    "    result['monthly profit'] = profit_list\n",
    "    result['date'] = pd.to_datetime(result['date'])\n",
    "    result = result.set_index('date')\n",
    "    result = result.sort_index()\n",
    "    return result"
   ]
  },
  {
   "cell_type": "code",
   "execution_count": 72,
   "metadata": {},
   "outputs": [
    {
     "output_type": "display_data",
     "data": {
      "application/vnd.plotly.v1+json": {
       "config": {
        "plotlyServerURL": "https://plot.ly"
       },
       "data": [
        {
         "type": "bar",
         "x": [
          "2012-01-01T00:00:00",
          "2012-02-01T00:00:00",
          "2012-03-01T00:00:00",
          "2012-04-01T00:00:00",
          "2012-05-01T00:00:00",
          "2012-06-01T00:00:00",
          "2012-07-01T00:00:00",
          "2012-08-01T00:00:00",
          "2012-09-01T00:00:00",
          "2012-10-01T00:00:00",
          "2012-11-01T00:00:00",
          "2012-12-01T00:00:00",
          "2013-01-01T00:00:00",
          "2013-02-01T00:00:00",
          "2013-03-01T00:00:00",
          "2013-04-01T00:00:00",
          "2013-05-01T00:00:00",
          "2013-06-01T00:00:00",
          "2013-07-01T00:00:00",
          "2013-08-01T00:00:00",
          "2013-09-01T00:00:00",
          "2013-10-01T00:00:00",
          "2013-11-01T00:00:00",
          "2013-12-01T00:00:00",
          "2014-01-01T00:00:00",
          "2014-02-01T00:00:00",
          "2014-03-01T00:00:00",
          "2014-04-01T00:00:00",
          "2014-05-01T00:00:00",
          "2014-06-01T00:00:00",
          "2014-07-01T00:00:00",
          "2014-08-01T00:00:00",
          "2014-09-01T00:00:00",
          "2014-10-01T00:00:00",
          "2014-11-01T00:00:00",
          "2014-12-01T00:00:00",
          "2015-01-01T00:00:00",
          "2015-02-01T00:00:00",
          "2015-03-01T00:00:00",
          "2015-04-01T00:00:00",
          "2015-05-01T00:00:00",
          "2015-06-01T00:00:00",
          "2015-07-01T00:00:00",
          "2015-08-01T00:00:00",
          "2015-09-01T00:00:00",
          "2015-10-01T00:00:00",
          "2015-11-01T00:00:00",
          "2015-12-01T00:00:00",
          "2016-01-01T00:00:00",
          "2016-02-01T00:00:00",
          "2016-03-01T00:00:00",
          "2016-04-01T00:00:00",
          "2016-05-01T00:00:00",
          "2016-06-01T00:00:00",
          "2016-07-01T00:00:00",
          "2016-08-01T00:00:00",
          "2016-09-01T00:00:00",
          "2016-10-01T00:00:00",
          "2016-11-01T00:00:00",
          "2016-12-01T00:00:00",
          "2017-01-01T00:00:00",
          "2017-02-01T00:00:00",
          "2017-03-01T00:00:00",
          "2017-04-01T00:00:00",
          "2017-05-01T00:00:00",
          "2017-06-01T00:00:00",
          "2017-07-01T00:00:00",
          "2017-08-01T00:00:00",
          "2017-09-01T00:00:00",
          "2017-10-01T00:00:00",
          "2017-11-01T00:00:00",
          "2017-12-01T00:00:00",
          "2018-01-01T00:00:00",
          "2018-02-01T00:00:00",
          "2018-03-01T00:00:00",
          "2018-04-01T00:00:00",
          "2018-05-01T00:00:00",
          "2018-06-01T00:00:00",
          "2018-07-01T00:00:00",
          "2018-08-01T00:00:00",
          "2018-09-01T00:00:00",
          "2018-10-01T00:00:00",
          "2018-11-01T00:00:00",
          "2018-12-01T00:00:00",
          "2019-01-01T00:00:00",
          "2019-02-01T00:00:00",
          "2019-03-01T00:00:00",
          "2019-04-01T00:00:00",
          "2019-05-01T00:00:00",
          "2019-06-01T00:00:00",
          "2019-07-01T00:00:00",
          "2019-08-01T00:00:00",
          "2019-09-01T00:00:00",
          "2019-10-01T00:00:00",
          "2019-11-01T00:00:00",
          "2019-12-01T00:00:00",
          "2020-01-01T00:00:00",
          "2020-02-01T00:00:00",
          "2020-03-01T00:00:00",
          "2020-04-01T00:00:00",
          "2020-05-01T00:00:00",
          "2020-06-01T00:00:00",
          "2020-07-01T00:00:00",
          "2020-08-01T00:00:00",
          "2020-09-01T00:00:00",
          "2020-10-01T00:00:00",
          "2020-11-01T00:00:00"
         ],
         "y": [
          34053091,
          33584499,
          36611146,
          40007591,
          43623222,
          42869733,
          47924170,
          48896013,
          42816800,
          49282571,
          43644278,
          36558773,
          47438687,
          41182084,
          44134225,
          50070645,
          51787926,
          54027749,
          52103384,
          55091177,
          55382473,
          51794813,
          44329997,
          49681037,
          51429993,
          46829051,
          49956128,
          61887391,
          60789137,
          60343956,
          64924870,
          69278551,
          74846313,
          80736353,
          72274532,
          69510190,
          87120068,
          62645075,
          72269001,
          75329510,
          70154763,
          59955479,
          80952810,
          67038016,
          64514083,
          81743395,
          63428163,
          58347005,
          70855235,
          59551321,
          73088805,
          66843310,
          73575784,
          81390752,
          76391654,
          94311424,
          89702807,
          91085318,
          93029912,
          78112022,
          76616258,
          71422961,
          85875181,
          56871933,
          72795974,
          84187305,
          71611190,
          91917167,
          88578988,
          94519722,
          93153310,
          89897252,
          79740672,
          64640562,
          103697437,
          81869781,
          80968732,
          70438298,
          74370924,
          91055038,
          94921920,
          101550181,
          98389414,
          89830598,
          78093827,
          60889055,
          79721587,
          74693615,
          80436931,
          85867929,
          84757724,
          106117619,
          102170096,
          106039531,
          107884396,
          103313138,
          103683135,
          93394449,
          113519599,
          96001572,
          93819010,
          120877785,
          105963468,
          122878244,
          127584492,
          119302707,
          124865438
         ]
        }
       ],
       "layout": {
        "font": {
         "color": "RebeccaPurple",
         "family": "Courier New, monospace",
         "size": 18
        },
        "template": {
         "data": {
          "bar": [
           {
            "error_x": {
             "color": "#2a3f5f"
            },
            "error_y": {
             "color": "#2a3f5f"
            },
            "marker": {
             "line": {
              "color": "#E5ECF6",
              "width": 0.5
             }
            },
            "type": "bar"
           }
          ],
          "barpolar": [
           {
            "marker": {
             "line": {
              "color": "#E5ECF6",
              "width": 0.5
             }
            },
            "type": "barpolar"
           }
          ],
          "carpet": [
           {
            "aaxis": {
             "endlinecolor": "#2a3f5f",
             "gridcolor": "white",
             "linecolor": "white",
             "minorgridcolor": "white",
             "startlinecolor": "#2a3f5f"
            },
            "baxis": {
             "endlinecolor": "#2a3f5f",
             "gridcolor": "white",
             "linecolor": "white",
             "minorgridcolor": "white",
             "startlinecolor": "#2a3f5f"
            },
            "type": "carpet"
           }
          ],
          "choropleth": [
           {
            "colorbar": {
             "outlinewidth": 0,
             "ticks": ""
            },
            "type": "choropleth"
           }
          ],
          "contour": [
           {
            "colorbar": {
             "outlinewidth": 0,
             "ticks": ""
            },
            "colorscale": [
             [
              0,
              "#0d0887"
             ],
             [
              0.1111111111111111,
              "#46039f"
             ],
             [
              0.2222222222222222,
              "#7201a8"
             ],
             [
              0.3333333333333333,
              "#9c179e"
             ],
             [
              0.4444444444444444,
              "#bd3786"
             ],
             [
              0.5555555555555556,
              "#d8576b"
             ],
             [
              0.6666666666666666,
              "#ed7953"
             ],
             [
              0.7777777777777778,
              "#fb9f3a"
             ],
             [
              0.8888888888888888,
              "#fdca26"
             ],
             [
              1,
              "#f0f921"
             ]
            ],
            "type": "contour"
           }
          ],
          "contourcarpet": [
           {
            "colorbar": {
             "outlinewidth": 0,
             "ticks": ""
            },
            "type": "contourcarpet"
           }
          ],
          "heatmap": [
           {
            "colorbar": {
             "outlinewidth": 0,
             "ticks": ""
            },
            "colorscale": [
             [
              0,
              "#0d0887"
             ],
             [
              0.1111111111111111,
              "#46039f"
             ],
             [
              0.2222222222222222,
              "#7201a8"
             ],
             [
              0.3333333333333333,
              "#9c179e"
             ],
             [
              0.4444444444444444,
              "#bd3786"
             ],
             [
              0.5555555555555556,
              "#d8576b"
             ],
             [
              0.6666666666666666,
              "#ed7953"
             ],
             [
              0.7777777777777778,
              "#fb9f3a"
             ],
             [
              0.8888888888888888,
              "#fdca26"
             ],
             [
              1,
              "#f0f921"
             ]
            ],
            "type": "heatmap"
           }
          ],
          "heatmapgl": [
           {
            "colorbar": {
             "outlinewidth": 0,
             "ticks": ""
            },
            "colorscale": [
             [
              0,
              "#0d0887"
             ],
             [
              0.1111111111111111,
              "#46039f"
             ],
             [
              0.2222222222222222,
              "#7201a8"
             ],
             [
              0.3333333333333333,
              "#9c179e"
             ],
             [
              0.4444444444444444,
              "#bd3786"
             ],
             [
              0.5555555555555556,
              "#d8576b"
             ],
             [
              0.6666666666666666,
              "#ed7953"
             ],
             [
              0.7777777777777778,
              "#fb9f3a"
             ],
             [
              0.8888888888888888,
              "#fdca26"
             ],
             [
              1,
              "#f0f921"
             ]
            ],
            "type": "heatmapgl"
           }
          ],
          "histogram": [
           {
            "marker": {
             "colorbar": {
              "outlinewidth": 0,
              "ticks": ""
             }
            },
            "type": "histogram"
           }
          ],
          "histogram2d": [
           {
            "colorbar": {
             "outlinewidth": 0,
             "ticks": ""
            },
            "colorscale": [
             [
              0,
              "#0d0887"
             ],
             [
              0.1111111111111111,
              "#46039f"
             ],
             [
              0.2222222222222222,
              "#7201a8"
             ],
             [
              0.3333333333333333,
              "#9c179e"
             ],
             [
              0.4444444444444444,
              "#bd3786"
             ],
             [
              0.5555555555555556,
              "#d8576b"
             ],
             [
              0.6666666666666666,
              "#ed7953"
             ],
             [
              0.7777777777777778,
              "#fb9f3a"
             ],
             [
              0.8888888888888888,
              "#fdca26"
             ],
             [
              1,
              "#f0f921"
             ]
            ],
            "type": "histogram2d"
           }
          ],
          "histogram2dcontour": [
           {
            "colorbar": {
             "outlinewidth": 0,
             "ticks": ""
            },
            "colorscale": [
             [
              0,
              "#0d0887"
             ],
             [
              0.1111111111111111,
              "#46039f"
             ],
             [
              0.2222222222222222,
              "#7201a8"
             ],
             [
              0.3333333333333333,
              "#9c179e"
             ],
             [
              0.4444444444444444,
              "#bd3786"
             ],
             [
              0.5555555555555556,
              "#d8576b"
             ],
             [
              0.6666666666666666,
              "#ed7953"
             ],
             [
              0.7777777777777778,
              "#fb9f3a"
             ],
             [
              0.8888888888888888,
              "#fdca26"
             ],
             [
              1,
              "#f0f921"
             ]
            ],
            "type": "histogram2dcontour"
           }
          ],
          "mesh3d": [
           {
            "colorbar": {
             "outlinewidth": 0,
             "ticks": ""
            },
            "type": "mesh3d"
           }
          ],
          "parcoords": [
           {
            "line": {
             "colorbar": {
              "outlinewidth": 0,
              "ticks": ""
             }
            },
            "type": "parcoords"
           }
          ],
          "pie": [
           {
            "automargin": true,
            "type": "pie"
           }
          ],
          "scatter": [
           {
            "marker": {
             "colorbar": {
              "outlinewidth": 0,
              "ticks": ""
             }
            },
            "type": "scatter"
           }
          ],
          "scatter3d": [
           {
            "line": {
             "colorbar": {
              "outlinewidth": 0,
              "ticks": ""
             }
            },
            "marker": {
             "colorbar": {
              "outlinewidth": 0,
              "ticks": ""
             }
            },
            "type": "scatter3d"
           }
          ],
          "scattercarpet": [
           {
            "marker": {
             "colorbar": {
              "outlinewidth": 0,
              "ticks": ""
             }
            },
            "type": "scattercarpet"
           }
          ],
          "scattergeo": [
           {
            "marker": {
             "colorbar": {
              "outlinewidth": 0,
              "ticks": ""
             }
            },
            "type": "scattergeo"
           }
          ],
          "scattergl": [
           {
            "marker": {
             "colorbar": {
              "outlinewidth": 0,
              "ticks": ""
             }
            },
            "type": "scattergl"
           }
          ],
          "scattermapbox": [
           {
            "marker": {
             "colorbar": {
              "outlinewidth": 0,
              "ticks": ""
             }
            },
            "type": "scattermapbox"
           }
          ],
          "scatterpolar": [
           {
            "marker": {
             "colorbar": {
              "outlinewidth": 0,
              "ticks": ""
             }
            },
            "type": "scatterpolar"
           }
          ],
          "scatterpolargl": [
           {
            "marker": {
             "colorbar": {
              "outlinewidth": 0,
              "ticks": ""
             }
            },
            "type": "scatterpolargl"
           }
          ],
          "scatterternary": [
           {
            "marker": {
             "colorbar": {
              "outlinewidth": 0,
              "ticks": ""
             }
            },
            "type": "scatterternary"
           }
          ],
          "surface": [
           {
            "colorbar": {
             "outlinewidth": 0,
             "ticks": ""
            },
            "colorscale": [
             [
              0,
              "#0d0887"
             ],
             [
              0.1111111111111111,
              "#46039f"
             ],
             [
              0.2222222222222222,
              "#7201a8"
             ],
             [
              0.3333333333333333,
              "#9c179e"
             ],
             [
              0.4444444444444444,
              "#bd3786"
             ],
             [
              0.5555555555555556,
              "#d8576b"
             ],
             [
              0.6666666666666666,
              "#ed7953"
             ],
             [
              0.7777777777777778,
              "#fb9f3a"
             ],
             [
              0.8888888888888888,
              "#fdca26"
             ],
             [
              1,
              "#f0f921"
             ]
            ],
            "type": "surface"
           }
          ],
          "table": [
           {
            "cells": {
             "fill": {
              "color": "#EBF0F8"
             },
             "line": {
              "color": "white"
             }
            },
            "header": {
             "fill": {
              "color": "#C8D4E3"
             },
             "line": {
              "color": "white"
             }
            },
            "type": "table"
           }
          ]
         },
         "layout": {
          "annotationdefaults": {
           "arrowcolor": "#2a3f5f",
           "arrowhead": 0,
           "arrowwidth": 1
          },
          "autotypenumbers": "strict",
          "coloraxis": {
           "colorbar": {
            "outlinewidth": 0,
            "ticks": ""
           }
          },
          "colorscale": {
           "diverging": [
            [
             0,
             "#8e0152"
            ],
            [
             0.1,
             "#c51b7d"
            ],
            [
             0.2,
             "#de77ae"
            ],
            [
             0.3,
             "#f1b6da"
            ],
            [
             0.4,
             "#fde0ef"
            ],
            [
             0.5,
             "#f7f7f7"
            ],
            [
             0.6,
             "#e6f5d0"
            ],
            [
             0.7,
             "#b8e186"
            ],
            [
             0.8,
             "#7fbc41"
            ],
            [
             0.9,
             "#4d9221"
            ],
            [
             1,
             "#276419"
            ]
           ],
           "sequential": [
            [
             0,
             "#0d0887"
            ],
            [
             0.1111111111111111,
             "#46039f"
            ],
            [
             0.2222222222222222,
             "#7201a8"
            ],
            [
             0.3333333333333333,
             "#9c179e"
            ],
            [
             0.4444444444444444,
             "#bd3786"
            ],
            [
             0.5555555555555556,
             "#d8576b"
            ],
            [
             0.6666666666666666,
             "#ed7953"
            ],
            [
             0.7777777777777778,
             "#fb9f3a"
            ],
            [
             0.8888888888888888,
             "#fdca26"
            ],
            [
             1,
             "#f0f921"
            ]
           ],
           "sequentialminus": [
            [
             0,
             "#0d0887"
            ],
            [
             0.1111111111111111,
             "#46039f"
            ],
            [
             0.2222222222222222,
             "#7201a8"
            ],
            [
             0.3333333333333333,
             "#9c179e"
            ],
            [
             0.4444444444444444,
             "#bd3786"
            ],
            [
             0.5555555555555556,
             "#d8576b"
            ],
            [
             0.6666666666666666,
             "#ed7953"
            ],
            [
             0.7777777777777778,
             "#fb9f3a"
            ],
            [
             0.8888888888888888,
             "#fdca26"
            ],
            [
             1,
             "#f0f921"
            ]
           ]
          },
          "colorway": [
           "#636efa",
           "#EF553B",
           "#00cc96",
           "#ab63fa",
           "#FFA15A",
           "#19d3f3",
           "#FF6692",
           "#B6E880",
           "#FF97FF",
           "#FECB52"
          ],
          "font": {
           "color": "#2a3f5f"
          },
          "geo": {
           "bgcolor": "white",
           "lakecolor": "white",
           "landcolor": "#E5ECF6",
           "showlakes": true,
           "showland": true,
           "subunitcolor": "white"
          },
          "hoverlabel": {
           "align": "left"
          },
          "hovermode": "closest",
          "mapbox": {
           "style": "light"
          },
          "paper_bgcolor": "white",
          "plot_bgcolor": "#E5ECF6",
          "polar": {
           "angularaxis": {
            "gridcolor": "white",
            "linecolor": "white",
            "ticks": ""
           },
           "bgcolor": "#E5ECF6",
           "radialaxis": {
            "gridcolor": "white",
            "linecolor": "white",
            "ticks": ""
           }
          },
          "scene": {
           "xaxis": {
            "backgroundcolor": "#E5ECF6",
            "gridcolor": "white",
            "gridwidth": 2,
            "linecolor": "white",
            "showbackground": true,
            "ticks": "",
            "zerolinecolor": "white"
           },
           "yaxis": {
            "backgroundcolor": "#E5ECF6",
            "gridcolor": "white",
            "gridwidth": 2,
            "linecolor": "white",
            "showbackground": true,
            "ticks": "",
            "zerolinecolor": "white"
           },
           "zaxis": {
            "backgroundcolor": "#E5ECF6",
            "gridcolor": "white",
            "gridwidth": 2,
            "linecolor": "white",
            "showbackground": true,
            "ticks": "",
            "zerolinecolor": "white"
           }
          },
          "shapedefaults": {
           "line": {
            "color": "#2a3f5f"
           }
          },
          "ternary": {
           "aaxis": {
            "gridcolor": "white",
            "linecolor": "white",
            "ticks": ""
           },
           "baxis": {
            "gridcolor": "white",
            "linecolor": "white",
            "ticks": ""
           },
           "bgcolor": "#E5ECF6",
           "caxis": {
            "gridcolor": "white",
            "linecolor": "white",
            "ticks": ""
           }
          },
          "title": {
           "x": 0.05
          },
          "xaxis": {
           "automargin": true,
           "gridcolor": "white",
           "linecolor": "white",
           "ticks": "",
           "title": {
            "standoff": 15
           },
           "zerolinecolor": "white",
           "zerolinewidth": 2
          },
          "yaxis": {
           "automargin": true,
           "gridcolor": "white",
           "linecolor": "white",
           "ticks": "",
           "title": {
            "standoff": 15
           },
           "zerolinecolor": "white",
           "zerolinewidth": 2
          }
         }
        },
        "title": {
         "text": "2330 每月營收"
        }
       }
      }
     },
     "metadata": {}
    }
   ],
   "source": [
    "import plotly.graph_objects as go\n",
    "import plotly.express as px\n",
    "\n",
    "ticker = 2330\n",
    "df = get_monthly_profit(ticker)\n",
    "fig = go.Figure([go.Bar(x=df.index, y=df['monthly profit'],)])\n",
    "fig.update_layout(\n",
    "    title='{} 每月營收'.format(ticker),\n",
    "    font=dict(\n",
    "        family=\"Courier New, monospace\",\n",
    "        size=18,\n",
    "        color=\"RebeccaPurple\"\n",
    "    )\n",
    ")\n",
    "fig.show()"
   ]
  },
  {
   "cell_type": "code",
   "execution_count": 67,
   "metadata": {},
   "outputs": [],
   "source": [
    "df = get_monthly_profit(2330)"
   ]
  },
  {
   "cell_type": "code",
   "execution_count": 68,
   "metadata": {},
   "outputs": [
    {
     "output_type": "execute_result",
     "data": {
      "text/plain": [
       "            monthly profit\n",
       "date                      \n",
       "2012-01-01        34053091\n",
       "2012-02-01        33584499\n",
       "2012-03-01        36611146\n",
       "2012-04-01        40007591\n",
       "2012-05-01        43623222\n",
       "...                    ...\n",
       "2020-07-01       105963468\n",
       "2020-08-01       122878244\n",
       "2020-09-01       127584492\n",
       "2020-10-01       119302707\n",
       "2020-11-01       124865438\n",
       "\n",
       "[107 rows x 1 columns]"
      ],
      "text/html": "<div>\n<style scoped>\n    .dataframe tbody tr th:only-of-type {\n        vertical-align: middle;\n    }\n\n    .dataframe tbody tr th {\n        vertical-align: top;\n    }\n\n    .dataframe thead th {\n        text-align: right;\n    }\n</style>\n<table border=\"1\" class=\"dataframe\">\n  <thead>\n    <tr style=\"text-align: right;\">\n      <th></th>\n      <th>monthly profit</th>\n    </tr>\n    <tr>\n      <th>date</th>\n      <th></th>\n    </tr>\n  </thead>\n  <tbody>\n    <tr>\n      <th>2012-01-01</th>\n      <td>34053091</td>\n    </tr>\n    <tr>\n      <th>2012-02-01</th>\n      <td>33584499</td>\n    </tr>\n    <tr>\n      <th>2012-03-01</th>\n      <td>36611146</td>\n    </tr>\n    <tr>\n      <th>2012-04-01</th>\n      <td>40007591</td>\n    </tr>\n    <tr>\n      <th>2012-05-01</th>\n      <td>43623222</td>\n    </tr>\n    <tr>\n      <th>...</th>\n      <td>...</td>\n    </tr>\n    <tr>\n      <th>2020-07-01</th>\n      <td>105963468</td>\n    </tr>\n    <tr>\n      <th>2020-08-01</th>\n      <td>122878244</td>\n    </tr>\n    <tr>\n      <th>2020-09-01</th>\n      <td>127584492</td>\n    </tr>\n    <tr>\n      <th>2020-10-01</th>\n      <td>119302707</td>\n    </tr>\n    <tr>\n      <th>2020-11-01</th>\n      <td>124865438</td>\n    </tr>\n  </tbody>\n</table>\n<p>107 rows × 1 columns</p>\n</div>"
     },
     "metadata": {},
     "execution_count": 68
    }
   ],
   "source": [
    "df"
   ]
  },
  {
   "cell_type": "code",
   "execution_count": null,
   "metadata": {},
   "outputs": [],
   "source": []
  }
 ]
}